{
 "cells": [
  {
   "cell_type": "code",
   "execution_count": 3,
   "id": "9957c57c-629a-4426-b998-4ffbfdeb19d2",
   "metadata": {},
   "outputs": [
    {
     "name": "stdout",
     "output_type": "stream",
     "text": [
      "Requirement already satisfied: pyodbc in c:\\users\\nha linh\\appdata\\local\\programs\\python\\python313\\lib\\site-packages (5.2.0)\n",
      "Note: you may need to restart the kernel to use updated packages.\n"
     ]
    }
   ],
   "source": [
    "pip install pyodbc"
   ]
  },
  {
   "cell_type": "code",
   "execution_count": 1,
   "id": "c9bf5e60-8cb9-4eaf-a070-42f7a9785d43",
   "metadata": {},
   "outputs": [
    {
     "name": "stdout",
     "output_type": "stream",
     "text": [
      "Kết nối thành công!\n"
     ]
    }
   ],
   "source": [
    "import pyodbc\n",
    "import random\n",
    "import datetime\n",
    "\n",
    "conn = pyodbc.connect(\n",
    "    'DRIVER={ODBC Driver 17 for SQL Server};'\n",
    "    'SERVER=LAPTOP-FDGT6UEG;'\n",
    "    'DATABASE=SNOOPYFINANCE;'\n",
    "    'Trusted_Connection=yes;'\n",
    ")\n",
    "cursor = conn.cursor()\n",
    "print(\"Kết nối thành công!\")\n"
   ]
  },
  {
   "cell_type": "code",
   "execution_count": 19,
   "id": "b653a37b-3ba9-48f9-883b-4ba4ad435c21",
   "metadata": {
    "scrolled": true
   },
   "outputs": [
    {
     "name": "stdin",
     "output_type": "stream",
     "text": [
      "Nhập tên người dùng:  Nguyen Hoang Nhat Kha\n",
      "Nhập email:  Khanguyenahihi@gmail.com\n"
     ]
    },
    {
     "name": "stdout",
     "output_type": "stream",
     "text": [
      "Email đã tồn tại. Sử dụng user_id: 11\n",
      "user_id hiện tại: 11\n"
     ]
    }
   ],
   "source": [
    "# Nhập và thêm người dùng\n",
    "user_name = input(\"Nhập tên người dùng: \").strip()\n",
    "email = input(\"Nhập email: \").strip()\n",
    "\n",
    "try:\n",
    "    # Kiểm tra email đã tồn tại trong bảng 'users'\n",
    "    cursor.execute(\"SELECT user_id FROM users WHERE email = ?\", (email,))\n",
    "    result = cursor.fetchone()\n",
    "\n",
    "    if result:\n",
    "        # Email đã tồn tại\n",
    "        user_id = result[0]\n",
    "        print(f\"Email đã tồn tại. Sử dụng user_id: {user_id}\")\n",
    "    else:\n",
    "        # Thêm người dùng mới\n",
    "        cursor.execute(\n",
    "            \"INSERT INTO users (user_name, email) VALUES (?, ?)\",\n",
    "            (user_name, email)\n",
    "        )\n",
    "        conn.commit()  # Xác nhận thay đổi và lưu vào db\n",
    "        print(\"Thêm người dùng thành công!\")\n",
    "        \n",
    "        # Lấy ID người dùng vừa thêm\n",
    "        cursor.execute(\"SELECT SCOPE_IDENTITY();\")\n",
    "        user_id = cursor.fetchone()[0]\n",
    "\n",
    "    print(f\"user_id hiện tại: {user_id}\")\n",
    "\n",
    "except pyodbc.Error as e:\n",
    "    print(\"Lỗi khi thêm người dùng:\", e)\n"
   ]
  },
  {
   "cell_type": "code",
   "execution_count": 20,
   "id": "3b0ae216-1c97-4702-8eb2-4322a886c18d",
   "metadata": {},
   "outputs": [
    {
     "name": "stdin",
     "output_type": "stream",
     "text": [
      "Nhập tên danh mục:  Breakfast\n"
     ]
    },
    {
     "name": "stdout",
     "output_type": "stream",
     "text": [
      "Danh mục đã tồn tại, không cần tạo lại.\n"
     ]
    },
    {
     "name": "stdin",
     "output_type": "stream",
     "text": [
      "Nhập ngày giao dịch (YYYY-MM-DD):  2025-01-04\n",
      "Nhập số tiền:  11000\n",
      "Nhập loại giao dịch (income/expense):  expense\n",
      "Nhập mô tả (có thể để trống):  rất đáng tiền nha\n"
     ]
    },
    {
     "name": "stdout",
     "output_type": "stream",
     "text": [
      "Thêm giao dịch thành công!\n"
     ]
    }
   ],
   "source": [
    "# Nhập và thêm danh mục\n",
    "category_name = input(\"Nhập tên danh mục: \")\n",
    "try:\n",
    "    # Kiểm tra xem danh mục đã tồn tại hay chưa\n",
    "    cursor.execute(\"SELECT category_id FROM categories WHERE category_name = ?\", (category_name,))\n",
    "    result = cursor.fetchone()\n",
    "\n",
    "    if result:\n",
    "        print(\"Danh mục đã tồn tại, không cần tạo lại.\")\n",
    "        category_id = result[0]  # Lấy ID danh mục đã tồn tại\n",
    "    else:\n",
    "        cursor.execute(\n",
    "            \"INSERT INTO categories (category_name) VALUES (?)\",\n",
    "            (category_name,)\n",
    "        )\n",
    "        conn.commit()\n",
    "        print(\"Thêm danh mục thành công!\")\n",
    "        # Lấy ID danh mục vừa thêm\n",
    "        cursor.execute(\"SELECT category_id FROM categories WHERE category_name = ?\", (category_name,))\n",
    "        category_id = cursor.fetchone()[0]\n",
    "except pyodbc.Error as e:\n",
    "    print(\"Lỗi khi thêm danh mục:\", e)\n",
    "\n",
    "# Nhập và thêm giao dịch\n",
    "try:\n",
    "    transaction_date = input(\"Nhập ngày giao dịch (YYYY-MM-DD): \")\n",
    "    amount = float(input(\"Nhập số tiền: \"))\n",
    "    transaction_type = input(\"Nhập loại giao dịch (income/expense): \")\n",
    "    description = input(\"Nhập mô tả (có thể để trống): \")\n",
    "\n",
    "    cursor.execute(\n",
    "        \"\"\"\n",
    "        INSERT INTO transactions (\n",
    "            user_id, transaction_date, category_id, amount, transaction_type, description\n",
    "        ) VALUES (?, ?, ?, ?, ?, ?)\n",
    "        \"\"\",\n",
    "        (user_id, transaction_date, category_id, amount, transaction_type, description)\n",
    "    )\n",
    "    conn.commit()\n",
    "    print(\"Thêm giao dịch thành công!\")\n",
    "except pyodbc.Error as e:\n",
    "    print(\"Lỗi khi thêm giao dịch:\", e)"
   ]
  },
  {
   "cell_type": "code",
   "execution_count": 17,
   "id": "4d5dfe0d-ea74-496e-8c12-8dc58b339a49",
   "metadata": {},
   "outputs": [
    {
     "name": "stdout",
     "output_type": "stream",
     "text": [
      "Kết nối thành công!\n",
      "Danh mục 'Bills' đã tồn tại.\n",
      "Lỗi khi thêm giao dịch: ('23000', '[23000] [Microsoft][ODBC Driver 17 for SQL Server][SQL Server]The INSERT statement conflicted with the FOREIGN KEY constraint \"FK__transacti__user___3C69FB99\". The conflict occurred in database \"SNOOPYFINANCE\", table \"dbo.users\", column \\'user_id\\'. (547) (SQLExecDirectW); [23000] [Microsoft][ODBC Driver 17 for SQL Server][SQL Server]The statement has been terminated. (3621)')\n",
      "Đóng kết nối.\n"
     ]
    }
   ],
   "source": [
    "import pyodbc\n",
    "import random\n",
    "import datetime\n",
    "\n",
    "# Hàm tạo dữ liệu ngẫu nhiên\n",
    "def random_date(start_date, end_date):\n",
    "    start = datetime.datetime.strptime(start_date, \"%Y-%m-%d\")\n",
    "    end = datetime.datetime.strptime(end_date, \"%Y-%m-%d\")\n",
    "    random_date = start + datetime.timedelta(days=random.randint(0, (end - start).days))\n",
    "    return random_date.strftime(\"%Y-%m-%d\")\n",
    "\n",
    "def random_amount():\n",
    "    return round(random.uniform(10, 100000), 2)\n",
    "\n",
    "def random_transaction_type():\n",
    "    return random.choice([\"income\", \"expense\"])\n",
    "\n",
    "def random_description():\n",
    "    descriptions = [\n",
    "        \"Scandal tình cảm cá nhân\",\n",
    "        \"Tranh cãi về quản lý tài chính\",\n",
    "        \"Phản ứng công chúng về sản phẩm âm nhạc mới\",\n",
    "        \"Truyền thông thảo luận về tác động xã hội\",\n",
    "        \"Phản hồi với các vấn đề từ cộng đồng fan\",\n",
    "        \"Bị chỉ trích vì không tham gia các hoạt động từ thiện\"\n",
    "    ]\n",
    "    return random.choice(descriptions)\n",
    "\n",
    "def random_category():\n",
    "    categories = [\"Food\", \"Salary\", \"Bills\", \"Entertainment\", \"Savings\"]\n",
    "    return random.choice(categories)\n",
    "\n",
    "# Kết nối cơ sở dữ liệu\n",
    "try:\n",
    "    conn = pyodbc.connect(\n",
    "        'DRIVER={ODBC Driver 17 for SQL Server};'\n",
    "        'SERVER=LAPTOP-FDGT6UEG;'\n",
    "        'DATABASE=SNOOPYFINANCE;'\n",
    "        'Trusted_Connection=yes;'\n",
    "    )\n",
    "    cursor = conn.cursor()\n",
    "    print(\"Kết nối thành công!\")\n",
    "\n",
    "    # Random danh mục\n",
    "    category_name = random_category()\n",
    "    try:\n",
    "        # Kiểm tra xem danh mục đã tồn tại hay chưa\n",
    "        cursor.execute(\"SELECT category_id FROM categories WHERE category_name = ?\", (category_name,))\n",
    "        result = cursor.fetchone()\n",
    "\n",
    "        if result:\n",
    "            print(f\"Danh mục '{category_name}' đã tồn tại.\")\n",
    "            category_id = result[0]  # Lấy ID danh mục đã tồn tại\n",
    "        else:\n",
    "            cursor.execute(\n",
    "                \"INSERT INTO categories (category_name) VALUES (?)\",\n",
    "                (category_name,)\n",
    "            )\n",
    "            conn.commit()\n",
    "            print(f\"Thêm danh mục '{category_name}' thành công!\")\n",
    "            # Lấy ID danh mục vừa thêm\n",
    "            cursor.execute(\"SELECT category_id FROM categories WHERE category_name = ?\", (category_name,))\n",
    "            category_id = cursor.fetchone()[0]\n",
    "    except pyodbc.Error as e:\n",
    "        print(\"Lỗi khi thêm danh mục:\", e)\n",
    "\n",
    "    # Random giao dịch\n",
    "    try:\n",
    "        user_id = 1  # Giả định user_id là 1\n",
    "        transaction_date = random_date(\"2024-01-01\", \"2024-12-31\")\n",
    "        amount = random_amount()\n",
    "        transaction_type = random_transaction_type()\n",
    "        description = random_description()\n",
    "\n",
    "        cursor.execute(\n",
    "            \"\"\"\n",
    "            INSERT INTO transactions (\n",
    "                user_id, transaction_date, category_id, amount, transaction_type, description\n",
    "            ) VALUES (?, ?, ?, ?, ?, ?)\n",
    "            \"\"\",\n",
    "            (user_id, transaction_date, category_id, amount, transaction_type, description)\n",
    "        )\n",
    "        conn.commit()\n",
    "        print(f\"Thêm giao dịch thành công: Ngày {transaction_date}, Số tiền {amount}, Loại {transaction_type}, Mô tả: {description}\")\n",
    "    except pyodbc.Error as e:\n",
    "        print(\"Lỗi khi thêm giao dịch:\", e)\n",
    "\n",
    "except pyodbc.Error as e:\n",
    "    print(\"Lỗi kết nối cơ sở dữ liệu:\", e)\n",
    "\n",
    "finally:\n",
    "    # Đóng kết nối\n",
    "    if 'cursor' in locals():\n",
    "        cursor.close()\n",
    "    if 'conn' in locals():\n",
    "        conn.close()\n",
    "        print(\"Đóng kết nối.\")\n"
   ]
  },
  {
   "cell_type": "code",
   "execution_count": null,
   "id": "3b4e4dbe-82d5-4c42-999a-a33683e14807",
   "metadata": {},
   "outputs": [],
   "source": []
  }
 ],
 "metadata": {
  "kernelspec": {
   "display_name": "Python 3 (ipykernel)",
   "language": "python",
   "name": "python3"
  },
  "language_info": {
   "codemirror_mode": {
    "name": "ipython",
    "version": 3
   },
   "file_extension": ".py",
   "mimetype": "text/x-python",
   "name": "python",
   "nbconvert_exporter": "python",
   "pygments_lexer": "ipython3",
   "version": "3.13.0"
  }
 },
 "nbformat": 4,
 "nbformat_minor": 5
}
